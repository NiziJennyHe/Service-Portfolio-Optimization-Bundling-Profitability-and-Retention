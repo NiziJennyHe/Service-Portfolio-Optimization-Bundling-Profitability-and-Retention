{
 "cells": [
  {
   "cell_type": "code",
   "execution_count": null,
   "id": "f92408eb",
   "metadata": {},
   "outputs": [],
   "source": [
    "#packages\n",
    "import pandas as pd\n",
    "import numpy as np"
   ]
  },
  {
   "cell_type": "code",
   "execution_count": null,
   "id": "b7ed4ae4",
   "metadata": {},
   "outputs": [],
   "source": [
    "#load data set\n"
   ]
  }
 ],
 "metadata": {
  "language_info": {
   "name": "python"
  }
 },
 "nbformat": 4,
 "nbformat_minor": 5
}
